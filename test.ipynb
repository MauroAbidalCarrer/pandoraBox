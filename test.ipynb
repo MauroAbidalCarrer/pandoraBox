{
 "cells": [
  {
   "cell_type": "code",
   "execution_count": 71,
   "metadata": {},
   "outputs": [
    {
     "name": "stdout",
     "output_type": "stream",
     "text": [
      "unload called\n"
     ]
    },
    {
     "data": {
      "text/markdown": [
       "Certainly! Here's a simple \"Hello World\" program written in C:\n",
       "\n",
       "```c\n",
       "#include <stdio.h>\n",
       "\n",
       "int main() {\n",
       "    printf(\"Hello, World!\\n\");\n",
       "    return 0;\n",
       "}\n",
       "```\n",
       "\n",
       "To run this program, follow these steps:\n",
       "\n",
       "1. Save the code in a file with a `.c` extension, for example `hello.c`.\n",
       "2. Open a command prompt or terminal and navigate to the directory where you saved the file.\n",
       "3. Compile the C code using a C compiler. For example, if you have GCC installed, you can use the following command: `gcc -o hello hello.c`.\n",
       "4. Run the compiled program using its executable file. For example, on Unix/Linux systems, you can use `./hello`, while on Windows, you can use `hello.exe`.\n",
       "\n",
       "You should see the output \"Hello, World!\" displayed in the console."
      ],
      "text/plain": [
       "<IPython.core.display.Markdown object>"
      ]
     },
     "execution_count": 71,
     "metadata": {},
     "output_type": "execute_result"
    }
   ],
   "source": [
    "%reload_ext pandora_extension\n",
    "%chat Write a hello world program in C"
   ]
  },
  {
   "cell_type": "code",
   "execution_count": 68,
   "metadata": {},
   "outputs": [
    {
     "name": "stdout",
     "output_type": "stream",
     "text": [
      "[{'role': 'system', 'content': 'You are an assistant in a notebook environment.'}, {'role': 'user', 'content': 'Write a hello world program in C'}, <OpenAIObject at 0x7f5dbc6d3880> JSON: {\n",
      "  \"role\": \"assistant\",\n",
      "  \"content\": \"Sure! Here's a simple \\\"Hello, World!\\\" program in C:\\n\\n```c\\n#include <stdio.h>\\n\\nint main() {\\n    printf(\\\"Hello, World!\\\\n\\\");\\n    return 0;\\n}\\n```\\n\\nTo run this program, you will need a C compiler such as GCC. You can save the code in a file with a `.c` extension, for example, `hello.c`. Then, compile it using the following command:\\n\\n```\\ngcc hello.c -o hello\\n```\\n\\nThis will generate an executable file `hello`. Finally, run the program by executing:\\n\\n```\\n./hello\\n```\\n\\nYou should see the output `Hello, World!` displayed in the console.\"\n",
      "}, {'role': 'user', 'content': 'What was my previous prompt'}]\n",
      "Your previous prompt was: \"Write a hello world program in C\"\n"
     ]
    }
   ],
   "source": [
    "%chat What was my previous prompt"
   ]
  }
 ],
 "metadata": {
  "kernelspec": {
   "display_name": "Python 3",
   "language": "python",
   "name": "python3"
  },
  "language_info": {
   "codemirror_mode": {
    "name": "ipython",
    "version": 3
   },
   "file_extension": ".py",
   "mimetype": "text/x-python",
   "name": "python",
   "nbconvert_exporter": "python",
   "pygments_lexer": "ipython3",
   "version": "3.10.13"
  }
 },
 "nbformat": 4,
 "nbformat_minor": 2
}
